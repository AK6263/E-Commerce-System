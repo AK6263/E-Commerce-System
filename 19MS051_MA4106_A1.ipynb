{
  "nbformat": 4,
  "nbformat_minor": 0,
  "metadata": {
    "colab": {
      "provenance": [],
      "collapsed_sections": [],
      "authorship_tag": "ABX9TyN5sg0753X5MQbAGVkVFIxi",
      "include_colab_link": true
    },
    "kernelspec": {
      "name": "python3",
      "display_name": "Python 3"
    },
    "language_info": {
      "name": "python"
    }
  },
  "cells": [
    {
      "cell_type": "markdown",
      "metadata": {
        "id": "view-in-github",
        "colab_type": "text"
      },
      "source": [
        "<a href=\"https://colab.research.google.com/github/AK6263/E-Commerce-System/blob/main/19MS051_MA4106_A1.ipynb\" target=\"_parent\"><img src=\"https://colab.research.google.com/assets/colab-badge.svg\" alt=\"Open In Colab\"/></a>"
      ]
    },
    {
      "cell_type": "markdown",
      "source": [
        "The given data set contains the Boston house-price data of Harrison, D. and Rubinfeld, D.L. It consists of thirteen input variables and one output variable.\n",
        "#### **Input variables (in order)**\n",
        "* **CRIM**: per capita crime rate by town\n",
        "* **ZN**: proportion of residential land zoned for lots over 25,000 sq.ft.\n",
        "* **INDUS**: proportion of non-retail business acres per town\n",
        "* **CHAS**: Charles River dummy variable (1 if tract bounds river; 0 otherwise)\n",
        "* **NOX**: nitric oxides concentration (parts per 10 million) \n",
        "* **RM**: average number of rooms per dwelling\n",
        "* **AGE**: proportion of owner-occupied units built prior to 1940\n",
        "* **DIS**: weighted distances to five Boston employment centres\n",
        "* **RAD**: index of accessibility to radial highways\n",
        "* **TAX**: full-value property-tax rate per 10,000 dollars \n",
        "* **PTRATIO**: pupil-teacher ratio by town\n",
        "* **B**: the result of the equation B=1000(Bk - 0.63)^2 where Bk is the proportion of blacks by town\n",
        "* **LSTAT**: % lower status of the population\n",
        "\n",
        "\n",
        "\n",
        "#### **Output variable**\n",
        "\n",
        "* **MEDV**: median value of owner-occupied homes in 1000's of dollars\n",
        "\n",
        "## Data\n",
        "\n",
        "From the compact structure of the Boston house-price data, we observe that the data contains 506 observations (rows) of 14 variables (columns).\n",
        "\n",
        "\n",
        "##OLS Regression\n",
        "We perform OLS regression considering the logarithm of MEDV as the response variable\n"
      ],
      "metadata": {
        "id": "gICtdXAPeYJj"
      }
    },
    {
      "cell_type": "code",
      "execution_count": null,
      "metadata": {
        "colab": {
          "base_uri": "https://localhost:8080/"
        },
        "id": "pRdHnUeMZWsx",
        "outputId": "87bdfd40-9da3-448f-a018-594ede28ce9c"
      },
      "outputs": [
        {
          "output_type": "stream",
          "name": "stdout",
          "text": [
            "MSE for training set is 0.03572\n",
            "R2 score for training set is 0.79453\n",
            "\n",
            "\n",
            "MSE for testing set is 0.03400\n",
            "R2 score for testing set is 0.75312\n",
            "\n",
            "\n",
            "Coefficients:\n",
            "CRIM: -0.0101191566\n",
            "ZN: 0.0010784373\n",
            "INDUS: 0.0029621968\n",
            "CHAS: 0.1020768993\n",
            "NOX: -0.9194517358\n",
            "RM: 0.0843003686\n",
            "AGE: 0.0009046856\n",
            "DIS: -0.0456251654\n",
            "RAD: 0.0136560921\n",
            "TAX: -0.0006314978\n",
            "PTRATIO: -0.0354678659\n",
            "B: 0.0003249817\n",
            "LSTAT: -0.0301840653\n"
          ]
        }
      ],
      "source": [
        "import numpy as np\n",
        "import matplotlib.pyplot as plt\n",
        "import math \n",
        "import pandas as pd\n",
        "from sklearn.datasets import load_boston\n",
        "from sklearn.model_selection import train_test_split\n",
        "from sklearn.linear_model import LinearRegression\n",
        "from sklearn.metrics import mean_squared_error,r2_score\n",
        "from sklearn.datasets import make_regression\n",
        "from sklearn.linear_model import Ridge,RidgeCV\n",
        "\n",
        "import warnings\n",
        "warnings.filterwarnings(action='ignore', category=FutureWarning)\n",
        "boston_dataset = load_boston()\n",
        "boston = pd.DataFrame(boston_dataset.data, columns=boston_dataset.feature_names)\n",
        "boston.head()\n",
        "logMedv = []\n",
        "for i in boston_dataset.target:\n",
        "  logMedv.append(math.log(i))\n",
        "boston_values = pd.DataFrame({'log(Medv)':logMedv})\n",
        "X_train, X_test, Y_train, Y_test = train_test_split(boston, boston_values, test_size = 0.2, random_state=20)\n",
        "linearModel = LinearRegression()\n",
        "linearModel.fit(X_train, Y_train)\n",
        "y_train_predict = linearModel.predict(X_train)\n",
        "mse_1 = mean_squared_error(Y_train, y_train_predict)\n",
        "r2_1 = r2_score(Y_train, y_train_predict)\n",
        "print('MSE for training set is %.5f'%(mse_1))\n",
        "print('R2 score for training set is %.5f'%(r2_1))\n",
        "print(\"\\n\")\n",
        "y_test_predict = linearModel.predict(X_test)\n",
        "mse_2 = mean_squared_error(Y_test, y_test_predict)\n",
        "r2_2 = r2_score(Y_test, y_test_predict)\n",
        "print('MSE for testing set is %.5f'%(mse_2))\n",
        "print('R2 score for testing set is %.5f'%(r2_2))\n",
        "print(\"\\n\")\n",
        "coefficients_ols=linearModel.coef_\n",
        "print('Coefficients:')\n",
        "for i in range(0, coefficients_ols.size):\n",
        "  print(list(boston)[i] + ': %.10f' %coefficients_ols.item(i))"
      ]
    },
    {
      "cell_type": "markdown",
      "source": [
        "## Ridge Regression\n",
        "We perform ridge regression considering the logarithm of MEDV as the response variable.\\\n",
        "We predict ridge parameter from trace plot, we choose alpha value from plot where graph of all coefficients is stabilized. In our case, near α = 4.005 sign of one of the coefficients changes. Hence, we choose α = 4.005 as our ridge parameter for ridge regression."
      ],
      "metadata": {
        "id": "hG3RKHjReUZd"
      }
    },
    {
      "cell_type": "code",
      "source": [
        "model = Ridge(alpha=1.0, normalize=True).fit(boston,boston_values)\n",
        "pred_y = model.predict(boston)\n",
        "score = model.score(boston,boston_values)\n",
        "mse = mean_squared_error(boston_values, pred_y) \n",
        "print('MSE for ridge regression is %.5f'%(mse))\n",
        "print('R2 score for ridge regression is %.5f'%(score))\n",
        "print('\\n')\n",
        "coefficients_ridge=model.coef_\n",
        "print('Coefficients:')\n",
        "for i in range(0, coefficients_ridge.size):\n",
        "  print(list(boston)[i] + ': %.10f' %coefficients_ridge.item(i))"
      ],
      "metadata": {
        "colab": {
          "base_uri": "https://localhost:8080/"
        },
        "id": "KyySQvDhXYiS",
        "outputId": "75bee422-32f5-4470-daec-88c9fdc8b806"
      },
      "execution_count": null,
      "outputs": [
        {
          "output_type": "stream",
          "name": "stdout",
          "text": [
            "MSE for ridge regression is 0.05171\n",
            "R2 score for ridge regression is 0.68989\n",
            "\n",
            "\n",
            "Coefficients:\n",
            "CRIM: -0.0051966627\n",
            "ZN: 0.0004668618\n",
            "INDUS: -0.0031655268\n",
            "CHAS: 0.0930261144\n",
            "NOX: -0.2126956204\n",
            "RM: 0.0998953790\n",
            "AGE: -0.0006036212\n",
            "DIS: -0.0062609292\n",
            "RAD: -0.0010764135\n",
            "TAX: -0.0001575014\n",
            "PTRATIO: -0.0207343941\n",
            "B: 0.0003295938\n",
            "LSTAT: -0.0127193755\n"
          ]
        }
      ]
    },
    {
      "cell_type": "code",
      "source": [
        "alphas = np.arange(0.001, 10, 0.001)\n",
        "coefs=[]\n",
        "X, y, w = make_regression(\n",
        "    n_samples=10, n_features=10, coef=True, random_state=1, bias=3.5\n",
        ")\n",
        "for a in alphas:\n",
        " model = Ridge(alpha=a, normalize=True).fit(X,y) \n",
        " coefs.append(model.coef_)\n",
        "\n",
        "plt.plot(alphas,coefs)\n",
        "plt.xlabel('alpha')\n",
        "plt.ylabel('coefficients')\n",
        "plt.title('Ridge-trace plot')\n",
        "#plt.savefig('ridge-trace.png')\n",
        "plt.show()"
      ],
      "metadata": {
        "colab": {
          "base_uri": "https://localhost:8080/",
          "height": 295
        },
        "id": "WBfKyOQeXQ9h",
        "outputId": "60879e2b-cd2f-452a-de0c-af584291bb32"
      },
      "execution_count": null,
      "outputs": [
        {
          "output_type": "display_data",
          "data": {
            "text/plain": [
              "<Figure size 432x288 with 1 Axes>"
            ],
            "image/png": "[encoded data removed]"
          },
          "metadata": {
            "needs_background": "light"
          }
        }
      ]
    },
    {
      "cell_type": "markdown",
      "source": [
        "## LOOCV technique\n",
        "Here, we determine ridge parameter using leave-one out cross validation technique.\\\n",
        "We get α = 0.027, MSE for this value of alpha is 0.03391 and R^2 score for this value of alpha is 0.75376\n",
        "And for α = 4.005, MSE is 0.05171 and R^2 score is 0.68989.\\\n",
        "We can see that MSE for α = 0.027 is less than that for α = 4.005. Thus, we choose α =0.027 as our ridge parameter"
      ],
      "metadata": {
        "id": "uaqixoJ4kNaY"
      }
    },
    {
      "cell_type": "code",
      "source": [
        "alphas=np.arange(0.001,10,0.001)\n",
        "ridge_cv=RidgeCV(alphas=alphas, store_cv_values=True)\n",
        "ridge_mod = ridge_cv.fit(X_train,Y_train)\n",
        "print(\"Ridge parameter from cross validation is %.5f\"%(ridge_mod.alpha_))\n",
        "print(\"\\n\")\n",
        "\n",
        "ypred = ridge_mod.predict(X_test)\n",
        "score = ridge_mod.score(X_test,Y_test)\n",
        "mse = mean_squared_error(Y_test,ypred)\n",
        "print(\"MSE for RidgeCV is %.5f\"%(mse))\n",
        "print(\"R2 score for RidgeCV is %.5f\"%(score))\n",
        "print(\"\\n\")\n",
        "\n",
        "x_ax = range(len(X_test))\n",
        "plt.scatter(x_ax, Y_test, s=5, color=\"blue\", label=\"original\")\n",
        "plt.plot(x_ax, ypred, lw=0.8, color=\"red\", label=\"predicted\")\n",
        "plt.legend()\n",
        "plt.show()"
      ],
      "metadata": {
        "colab": {
          "base_uri": "https://localhost:8080/",
          "height": 388
        },
        "id": "hK0KEwEpX9kf",
        "outputId": "daa755e3-ec1c-4c99-9c80-b3e8747ff473"
      },
      "execution_count": null,
      "outputs": [
        {
          "output_type": "stream",
          "name": "stdout",
          "text": [
            "Ridge parameter from cross validation is 0.02700\n",
            "\n",
            "\n",
            "MSE for RidgeCV is 0.03391\n",
            "R2 score for RidgeCV is 0.75376\n",
            "\n",
            "\n"
          ]
        },
        {
          "output_type": "display_data",
          "data": {
            "text/plain": [
              "<Figure size 432x288 with 1 Axes>"
            ],
            "image/png": "[encoded data removed]"
          },
          "metadata": {
            "needs_background": "light"
          }
        }
      ]
    },
    {
      "cell_type": "markdown",
      "source": [
        "## OLS vs Ridge regression\n",
        "We compare the coefficients and predicted errors. \\\n",
        " \n",
        "### Coefficients\n",
        "\n",
        "From the coefficients table, we observe that the absolute values of the coefficients of ridge regression are smaller than the absolute values of the coefficients of OLS regression. That is, we observe a shrink in the absolute values of the coefficients, supporting the theory - as the parameter value increases, the coefficients shrink to zero."
      ],
      "metadata": {
        "id": "2KUCT8iEndF1"
      }
    },
    {
      "cell_type": "code",
      "source": [
        "model = Ridge(alpha=0.027, normalize=True).fit(boston,boston_values)\n",
        "coefficients_ridge=model.coef_\n",
        "\n",
        "df = pd.DataFrame ({'Coefficient': list(boston), \n",
        "                    'OLS': coefficients_ols.flatten(), \n",
        "                    'Ridge': coefficients_ridge.flatten()})\n",
        "df.index=df.index+1\n",
        "print('\\n\\nEstimates of parameters for OLS and Ridge regression\\n')\n",
        "print(df)"
      ],
      "metadata": {
        "colab": {
          "base_uri": "https://localhost:8080/"
        },
        "id": "vY9nByXSZN9a",
        "outputId": "a84f8bcf-48e3-4af9-fcf6-8fe906a65603"
      },
      "execution_count": null,
      "outputs": [
        {
          "output_type": "stream",
          "name": "stdout",
          "text": [
            "\n",
            "\n",
            "Estimates of parameters for OLS and Ridge regression\n",
            "\n",
            "   Coefficient       OLS     Ridge\n",
            "1         CRIM -0.010119 -0.009628\n",
            "2           ZN  0.001078  0.000901\n",
            "3        INDUS  0.002962  0.000710\n",
            "4         CHAS  0.102077  0.107939\n",
            "5          NOX -0.919452 -0.661966\n",
            "6           RM  0.084300  0.101247\n",
            "7          AGE  0.000905  0.000013\n",
            "8          DIS -0.045625 -0.043811\n",
            "9          RAD  0.013656  0.010133\n",
            "10         TAX -0.000631 -0.000437\n",
            "11     PTRATIO -0.035468 -0.036079\n",
            "12           B  0.000325  0.000418\n",
            "13       LSTAT -0.030184 -0.027420\n"
          ]
        }
      ]
    },
    {
      "cell_type": "code",
      "source": [
        "pred_y = model.predict(boston)\n",
        "score = model.score(boston,boston_values)\n",
        "mse = mean_squared_error(boston_values, pred_y)\n",
        "\n",
        "pred1_y = linearModel.predict(boston)\n",
        "score_1=linearModel.score(boston,boston_values)\n",
        "mse_1=mean_squared_error(boston_values,pred1_y)\n",
        "\n",
        "print('\\nMSE for OLS regression is %.5f'%(mse_1))\n",
        "print('MSE for ridge regression is %.5f\\n'%(mse))\n",
        "\n",
        "print('R2 score OLS regression is %.5f'%(score_1))\n",
        "print('R2 score for ridge regression is %.5f'%(score))"
      ],
      "metadata": {
        "colab": {
          "base_uri": "https://localhost:8080/"
        },
        "id": "I_TM6db-ZweR",
        "outputId": "e8228a01-589b-4467-bbe2-fe3325dad3af"
      },
      "execution_count": null,
      "outputs": [
        {
          "output_type": "stream",
          "name": "stdout",
          "text": [
            "\n",
            "MSE for OLS regression is 0.03537\n",
            "MSE for ridge regression is 0.03535\n",
            "\n",
            "R2 score OLS regression is 0.78786\n",
            "R2 score for ridge regression is 0.78798\n"
          ]
        }
      ]
    }
  ]
}